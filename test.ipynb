{
 "cells": [
  {
   "cell_type": "code",
   "execution_count": 1,
   "metadata": {},
   "outputs": [
    {
     "name": "stdout",
     "output_type": "stream",
     "text": [
      "Found existing installation: edmt 1.0.0.2\n",
      "Uninstalling edmt-1.0.0.2:\n",
      "  Successfully uninstalled edmt-1.0.0.2\n",
      "Note: you may need to restart the kernel to use updated packages.\n",
      "Note: you may need to restart the kernel to use updated packages.\n"
     ]
    }
   ],
   "source": [
    "%pip uninstall edmt -y\n",
    "%pip install . &> /dev/null"
   ]
  },
  {
   "cell_type": "code",
   "execution_count": 2,
   "metadata": {},
   "outputs": [],
   "source": [
    "import edmt\n",
    "import pandas as pd"
   ]
  },
  {
   "cell_type": "code",
   "execution_count": 3,
   "metadata": {},
   "outputs": [
    {
     "name": "stdout",
     "output_type": "stream",
     "text": [
      "['analysis', 'base', 'contrib', 'convesrion', 'init', 'mapping', 'models', 'plotting']\n"
     ]
    }
   ],
   "source": [
    "print([func for func in dir(edmt) if callable(getattr(edmt, func))])"
   ]
  },
  {
   "cell_type": "code",
   "execution_count": 4,
   "metadata": {},
   "outputs": [
    {
     "name": "stdout",
     "output_type": "stream",
     "text": [
      "  ______ _____  __  __ _______ \n",
      " |  ____|  __ \\|  \\/  |__   __|\n",
      " | |__  | |  | | \\  / |  | |   \n",
      " |  __| | |  | | |\\/| |  | |   \n",
      " | |____| |__| | |  | |  | |   \n",
      " |______|_____/|_|  |_|  |_|   \n",
      "                               \n",
      "                               \n",
      "\n"
     ]
    }
   ],
   "source": [
    "edmt.init()"
   ]
  },
  {
   "cell_type": "code",
   "execution_count": 5,
   "metadata": {},
   "outputs": [
    {
     "data": {
      "text/plain": [
       "'1.0.0.2'"
      ]
     },
     "execution_count": 5,
     "metadata": {},
     "output_type": "execute_result"
    }
   ],
   "source": [
    "edmt.__version__"
   ]
  },
  {
   "cell_type": "code",
   "execution_count": 7,
   "metadata": {},
   "outputs": [
    {
     "name": "stdout",
     "output_type": "stream",
     "text": [
      "No UUID-like column found. Generating 'uuid' column in the DataFrame.\n",
      "      name                                  uuid\n",
      "0    Alice  4c32f44d-4657-4a50-b928-8b45b80339c5\n",
      "1      Bob  dfc2423c-1b1b-41ab-a3e4-ffe07a9bcb61\n",
      "2  Charlie  8bd365ba-61a5-44a0-a81b-291a6838acde\n"
     ]
    }
   ],
   "source": [
    "# Create a sample DataFrame\n",
    "data = pd.DataFrame({\"name\": [\"Alice\", \"Bob\", \"Charlie\"]})\n",
    "\n",
    "# Use the generate_uuid function\n",
    "result = edmt.conversion.generate_uuid(data)\n",
    "print(result)"
   ]
  },
  {
   "cell_type": "code",
   "execution_count": null,
   "metadata": {},
   "outputs": [],
   "source": []
  }
 ],
 "metadata": {
  "kernelspec": {
   "display_name": "env",
   "language": "python",
   "name": "python3"
  },
  "language_info": {
   "codemirror_mode": {
    "name": "ipython",
    "version": 3
   },
   "file_extension": ".py",
   "mimetype": "text/x-python",
   "name": "python",
   "nbconvert_exporter": "python",
   "pygments_lexer": "ipython3",
   "version": "3.10.12"
  }
 },
 "nbformat": 4,
 "nbformat_minor": 2
}
