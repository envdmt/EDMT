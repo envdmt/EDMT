{
 "cells": [
  {
   "cell_type": "code",
   "execution_count": 1,
   "metadata": {},
   "outputs": [
    {
     "name": "stdout",
     "output_type": "stream",
     "text": [
      "Note: you may need to restart the kernel to use updated packages.\n"
     ]
    },
    {
     "name": "stderr",
     "output_type": "stream",
     "text": [
      "WARNING: Skipping edmt as it is not installed.\n"
     ]
    },
    {
     "name": "stdout",
     "output_type": "stream",
     "text": [
      "Note: you may need to restart the kernel to use updated packages.\n"
     ]
    },
    {
     "name": "stderr",
     "output_type": "stream",
     "text": [
      "The syntax of the command is incorrect.\n"
     ]
    }
   ],
   "source": [
    "%pip uninstall edmt -y\n",
    "%pip install . &> /dev/null"
   ]
  },
  {
   "cell_type": "code",
   "execution_count": 1,
   "metadata": {},
   "outputs": [],
   "source": [
    "import edmt\n",
    "import pandas as pd"
   ]
  },
  {
   "cell_type": "code",
   "execution_count": 2,
   "metadata": {},
   "outputs": [
    {
     "name": "stdout",
     "output_type": "stream",
     "text": [
      "['generate_uuid', 'init']\n"
     ]
    }
   ],
   "source": [
    "print([func for func in dir(edmt) if callable(getattr(edmt, func))])"
   ]
  },
  {
   "cell_type": "code",
   "execution_count": 3,
   "metadata": {},
   "outputs": [
    {
     "name": "stdout",
     "output_type": "stream",
     "text": [
      "  ______ _____  __  __ _______ \n",
      " |  ____|  __ \\|  \\/  |__   __|\n",
      " | |__  | |  | | \\  / |  | |   \n",
      " |  __| | |  | | |\\/| |  | |   \n",
      " | |____| |__| | |  | |  | |   \n",
      " |______|_____/|_|  |_|  |_|   \n",
      "                               \n",
      "                               \n",
      "\n"
     ]
    }
   ],
   "source": [
    "edmt.init()"
   ]
  },
  {
   "cell_type": "code",
   "execution_count": 4,
   "metadata": {},
   "outputs": [
    {
     "data": {
      "text/plain": [
       "'1.0.0.2'"
      ]
     },
     "execution_count": 4,
     "metadata": {},
     "output_type": "execute_result"
    }
   ],
   "source": [
    "edmt.__version__"
   ]
  },
  {
   "cell_type": "code",
   "execution_count": 4,
   "metadata": {},
   "outputs": [
    {
     "name": "stdout",
     "output_type": "stream",
     "text": [
      "No UUID-like column found. Generating 'uuid' column in the DataFrame.\n",
      "      name                                  uuid\n",
      "0    Alice  9686c1c7-fcad-40d4-a22e-598dd6803f47\n",
      "1      Bob  deec5f3f-7e53-4512-ae15-98c32bcc9d39\n",
      "2  Charlie  41299f03-f96f-4bd3-8ee6-287464fc1ba9\n"
     ]
    }
   ],
   "source": [
    "# Create a sample DataFrame\n",
    "data = pd.DataFrame({\"name\": [\"Alice\", \"Bob\", \"Charlie\"]})\n",
    "\n",
    "# Use the generate_uuid function\n",
    "result = edmt.generate_uuid(data)\n",
    "print(result)"
   ]
  },
  {
   "cell_type": "markdown",
   "metadata": {},
   "source": [
    "## Conversion -> sdf_to_gdf(sdf)"
   ]
  }
 ],
 "metadata": {
  "kernelspec": {
   "display_name": "env",
   "language": "python",
   "name": "python3"
  },
  "language_info": {
   "codemirror_mode": {
    "name": "ipython",
    "version": 3
   },
   "file_extension": ".py",
   "mimetype": "text/x-python",
   "name": "python",
   "nbconvert_exporter": "python",
   "pygments_lexer": "ipython3",
   "version": "3.12.7"
  }
 },
 "nbformat": 4,
 "nbformat_minor": 2
}
